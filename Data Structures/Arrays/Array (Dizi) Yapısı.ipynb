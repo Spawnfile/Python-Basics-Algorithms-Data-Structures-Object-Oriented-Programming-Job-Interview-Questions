{
 "cells": [
  {
   "cell_type": "markdown",
   "metadata": {},
   "source": [
    " # Array (Dizi) Yapısı"
   ]
  },
  {
   "cell_type": "markdown",
   "metadata": {},
   "source": [
    "## İçerik\n",
    "* [Arrays](#1)\n",
    "* [Dynamic Array](#2)\n",
    "* [Dynamic Array with Python](#3)\n",
    "* [Array İş Mülakatları Soru-Cevap](#4)\n",
    "* [Array Python Challenge/Problem](#5)\n",
    "* [Neler Öğrendik](#6)"
   ]
  },
  {
   "cell_type": "markdown",
   "metadata": {},
   "source": [
    "<a id=\"1\"></a>\n",
    "## Arrays\n",
    "* 1 mesafe sensörü düşünün. Saniye de 1 veri yollayan bir sensör.\n",
    "* Bu verileri depolamak için variable tanımlayabilir miyiz?\n",
    "* Peki variable yerine ne kullanabiliriz? ARRAYS\n",
    "* Value depolamamıza yarayan yapılara array diyoruz.\n",
    "* Örn: [1,2,3,4,5] = higher level abstraction yani real world'de böyle kullanılır.\n",
    "* Bu array 5 elemanlı bir array.\n",
    "* Arrayin içinde ki her bir elemanın yerini indexler belirler.\n",
    "* 2 sayısı yani değeri index 1 dedir.\n",
    "* Biz tüm bu kursumuzda python kullandığımız gibi data structure konusunda da python kullanacağız ve python da index sıfırdan başlar."
   ]
  },
  {
   "cell_type": "code",
   "execution_count": 1,
   "metadata": {},
   "outputs": [
    {
     "name": "stdout",
     "output_type": "stream",
     "text": [
      "[[1 2 3 4 5]]\n",
      "Boyut:  (1, 5)\n"
     ]
    }
   ],
   "source": [
    "import numpy as np\n",
    "array = np.array([[1,2,3,4,5]])  # vector 1D\n",
    "print(array)\n",
    "print(\"Boyut: \",array.shape)"
   ]
  },
  {
   "cell_type": "markdown",
   "metadata": {},
   "source": [
    "* Peki array tek boyulu olmak zorunda mı? Hayır 2 boyutlu hatta 3-4 boyutlu bile olabilir. (Optional: tensor is lower or higher dimensinal array)\n",
    "* 2D array satır ve sütunlardan oluşur. Row - Column"
   ]
  },
  {
   "cell_type": "code",
   "execution_count": 2,
   "metadata": {},
   "outputs": [
    {
     "name": "stdout",
     "output_type": "stream",
     "text": [
      "[[ 1  2  3  4  5]\n",
      " [ 6  7  8  9 10]]\n",
      "boyut:  (2, 5)\n",
      "2. satır 4. sütun:  9\n"
     ]
    }
   ],
   "source": [
    "array2D = np.array([[1,2,3,4,5],\n",
    "                    [6,7,8,9,10]])\n",
    "print(array2D)\n",
    "print(\"boyut: \",array2D.shape)\n",
    "print(\"2. satır 4. sütun: \",array2D[1,3])"
   ]
  },
  {
   "cell_type": "markdown",
   "metadata": {},
   "source": [
    "<a id=\"2\"></a>\n",
    "## Dynamic Array\n",
    "* Dynamic array boyutunu önceden belirtmek zorunda olmadığımız daha sonra eleman ekleyip çıkartabileceğimiz yapılara denir.\n",
    "* Dynamic array growable and resizable olarak tanımlanır.\n",
    "* Dynamic array neredeyse tüm programlama dillerinde çok sık kullanılan bir yapıdır.\n",
    "* ![title](dynamicAr.jpg)"
   ]
  },
  {
   "cell_type": "markdown",
   "metadata": {},
   "source": [
    "<a id=\"3\"></a>\n",
    "## Dynamic Array with Python\n",
    "* Anlamak için kendi dynamic array class'ımızı yaratacağız.\n",
    "* Eğer class ile ilgili sorunlarız var ise bu linkte ki benim dersimin object oriented kısmından öğrenebilirsiniz:\n",
    "    * https://www.udemy.com/python-sfrdan-uzmanlga-programlama-1/"
   ]
  },
  {
   "cell_type": "code",
   "execution_count": 3,
   "metadata": {},
   "outputs": [],
   "source": [
    "import ctypes # yeni array yaratmak icin kullanacagiz\n",
    "\n",
    "class DynamicArray(object):\n",
    "    \n",
    "    # initialize (constructor)\n",
    "    def __init__(self):\n",
    "        self.n = 0 # eleman sayisi\n",
    "        self.capacity = 1 # kapasite\n",
    "        self.A = self.make_array(self.capacity) \n",
    "        \n",
    "    def __len__(self):\n",
    "        \"\"\"\n",
    "        return array icerisinde eleman sayisi\n",
    "        \"\"\"\n",
    "        return self.n\n",
    "    \n",
    "    def __getitem__(self,k):\n",
    "        \"\"\"\n",
    "        return index k'da ki eleman(value)\n",
    "        \"\"\"\n",
    "        if not 0 <= k < self.n:\n",
    "            return IndexError(\"k is out of bounds !\")\n",
    "        \n",
    "        return self.A[k]\n",
    "        \n",
    "    def append(self,eleman):\n",
    "        \"\"\"\n",
    "        array'e eleman ekler\n",
    "        \"\"\"\n",
    "        \n",
    "        # eger kapasite dolu ise kapasiteyi iki katina cikar\n",
    "        if self.n == self.capacity:\n",
    "            self._resize(2*self.capacity)\n",
    "            \n",
    "        self.A[self.n] = eleman # eleman ekleme\n",
    "        self.n += 1 # eleman sayisi bir arttir\n",
    "        \n",
    "    def _resize(self,new_cap):\n",
    "        \"\"\"\n",
    "        array kapasitesini arttir\n",
    "        \"\"\"\n",
    "        \n",
    "        B = self.make_array(new_cap)  # yeni array yap\n",
    "        \n",
    "        # eski array (A) icerisindeki degerleri yeni arraye(B) icine tasi\n",
    "        for k in range(self.n):\n",
    "            B[k] = self.A[k]\n",
    "        \n",
    "        self.A = B # arrayi guncelle\n",
    "        self.capacity = new_cap # kapasite guncelle\n",
    "    \n",
    "    def make_array(self,new_cap):\n",
    "        \"\"\"\n",
    "        return yeni array\n",
    "        \"\"\"\n",
    "        return (new_cap*ctypes.py_object)()\n",
    "    "
   ]
  },
  {
   "cell_type": "code",
   "execution_count": 4,
   "metadata": {},
   "outputs": [
    {
     "name": "stdout",
     "output_type": "stream",
     "text": [
      "1\n",
      "1 3\n",
      "1 3 5\n"
     ]
    }
   ],
   "source": [
    "# obje tanimla\n",
    "arr = DynamicArray()\n",
    "# append new element 1\n",
    "arr.append(1)\n",
    "print(arr[0])\n",
    "# append new element 1 , 3\n",
    "arr.append(3)\n",
    "print(arr[0],arr[1])\n",
    "# append new element 1 , 3 ,5\n",
    "arr.append(5)\n",
    "print(arr[0],arr[1],arr[2])"
   ]
  },
  {
   "cell_type": "markdown",
   "metadata": {},
   "source": [
    "<a id=\"4\"></a>\n",
    "## Array İş Mülakatları Soru-Cevap \n",
    "1. Dynamic Array neden önemli?\n",
    "    * Automatic resizing\n",
    "2. Array ile Dynamic Array arasındaki fark nedir?\n",
    "    * Array is fixed size. Başlangıçta yani array yaratırken size belirlemek lazım\n",
    "    * Dynamic array de başlangıçta size belirlemeye gerek yok\n",
    "3. Dynamic Array Advantages and Disadvantages ? \n",
    "    * Advantages:\n",
    "        * Fast lookups: istenilen arrayde ki degeri elde etmesi  \n",
    "        * Variable size: resizeable \n",
    "    * Disadvantages:\n",
    "        * Slow worst-case appends: eger yer yoksa kapasiteyi arttırmak lazım ama yavas.\n",
    "        * Costly inserts and deletes\n",
    "    * ![title](array big o.jpg)\n",
    "4. Size Nasıl Artıyor?\n",
    "    * 2 katına çıkıyor\n",
    "5. Which of the following operations is not O(1) for an array of sorted data. You may assume that array elements are distinct.\n",
    "    * (A) Find the ith largest element\n",
    "    * (B) Delete an element\n",
    "    * (C) Find the ith smallest element\n",
    "    * (D) All of the above\n",
    "    * (B)"
   ]
  },
  {
   "cell_type": "markdown",
   "metadata": {},
   "source": [
    "<a id=\"5\"></a>\n",
    "## Array Python Challenge/Problem\n",
    "* Brute force çözmeye çalışın yani kağıt kalem düz mantık for döngüleri filan kullanara, metot kullanmadan.\n",
    "* Eğer soruyu çözemezseniz bırakın 1 gün sonra tekrar bakın\n",
    "* Array Python Challenges/Problems\n",
    "    1. Word Split"
   ]
  },
  {
   "cell_type": "markdown",
   "metadata": {},
   "source": [
    "### 1) Word Split\n",
    "    * input = [\"deeplearning\", \"d,dll,a,deep,dee,base,lear,learning\"]\n",
    "    * output = [\"deep,learning\"]"
   ]
  },
  {
   "cell_type": "code",
   "execution_count": 41,
   "metadata": {},
   "outputs": [],
   "source": [
    "def wordSplit(liste):\n",
    "    word = list((liste[0]))  # \"deeplearning\" => [\"d\",\"e\"...]\n",
    "    d = liste[1].split(\",\")  # [\"d\",\"dll\",\"a\",\"deep\",\"dee\",\"base\",\"lear\",\"learning\"]\n",
    "    \n",
    "    for i in range(1,len(word)):\n",
    "        c = word[:]\n",
    "        c.insert(i,\" \")\n",
    "        \n",
    "        x , y = \"\".join(c).split()   # \"d\", \"eeplearning\"    \"de\",\"eplearning\"\n",
    "        if x in d and y in d:\n",
    "            return x + \" , \"+ y\n",
    "    return \"bulamadim (no way)\""
   ]
  },
  {
   "cell_type": "code",
   "execution_count": 44,
   "metadata": {},
   "outputs": [
    {
     "name": "stdout",
     "output_type": "stream",
     "text": [
      "deep , learning\n",
      "bulamadim (no way)\n",
      "deep , lear2ning\n"
     ]
    }
   ],
   "source": [
    "print(wordSplit([\"deeplearning\", \"d,dll,a,deep,dee,base,lear,learning\"]))\n",
    "print(wordSplit([\"deeplear2ning\", \"d,dll,a,deep,dee,base,lear,learning\"]))\n",
    "print(wordSplit([\"deeplear2ning\", \"d,dll,a,deep,dee,base,lear,lear2ning\"]))"
   ]
  },
  {
   "cell_type": "markdown",
   "metadata": {},
   "source": [
    "<a id=\"6\"></a>\n",
    "## Neler Öğrendik\n",
    "* Arrays\n",
    "* Dynamic Array\n",
    "* Dynamic Array with Python\n",
    "* Array İş Mülakatları Soru-Cevap \n",
    "* Array Python Challenge/Problem\n",
    "\n",
    "* TAVSİYE: Array ile ilgili soru çözün. Mesela https://coderbyte.com/"
   ]
  }
 ],
 "metadata": {
  "kernelspec": {
   "display_name": "Python 3",
   "language": "python",
   "name": "python3"
  },
  "language_info": {
   "codemirror_mode": {
    "name": "ipython",
    "version": 3
   },
   "file_extension": ".py",
   "mimetype": "text/x-python",
   "name": "python",
   "nbconvert_exporter": "python",
   "pygments_lexer": "ipython3",
   "version": "3.6.5"
  }
 },
 "nbformat": 4,
 "nbformat_minor": 2
}
